{
 "cells": [
  {
   "cell_type": "markdown",
   "metadata": {},
   "source": [
    "# rawPy #\n",
    "Release notes  \n",
    "**versio Beta_0_0** 11/04/2020  \n",
    "note: the name has been given by my wife Allie (supposed to be a joke for raw pie)"
   ]
  },
  {
   "cell_type": "markdown",
   "metadata": {},
   "source": [
    "**Scope:**  \n",
    "This program has been created to build a tool for reproducible data analysis of raw data collected with the biaxial rock deformation apparatus **BRAVA**.  \n",
    "It allows to import the raw data and produce an output file with elaborated quantities.  \n",
    "It takes inspiration from the program [**xlook**](https://github.com/PennStateRockandSedimentMechanics/xlook) developed by Chris Marone et al. for the Penn State Biax and the module [**biaxtools**](https://github.com/jrleeman/biaxtools) developed by John Leeman.  "
   ]
  },
  {
   "cell_type": "markdown",
   "metadata": {},
   "source": [
    "### 1. Installation ###"
   ]
  },
  {
   "cell_type": "markdown",
   "metadata": {},
   "source": [
    "- Download [Anaconda](https://www.anaconda.com/distribution/) package manager Python version 3.7\n",
    "- Place the rawPy in a directory of your choice and add it to the PYTHONPATH. This allows to import the rawPy as a module.  \n",
    "    - To add the directory to the PYTHONPATH execute this command in the **anaconda prompt** for windows user (access it by going on search and type the name) or a **terminal** for mac users.  \n",
    "`conda-develop /path/to/module/`  \n",
    "    - If this does not work open the **Spyder IDE** by typing in the anaconda prompt/terminal `spyder`.  \n",
    "Open the **Python path manager** and add to the PYTHONPATH the the choosen directory (see picture below).  \n",
    "<img src=\"python_path.png\" alt=\"Drawing\" style=\"width: 300px;\"/>\n"
   ]
  },
  {
   "cell_type": "markdown",
   "metadata": {},
   "source": [
    "### 2.Usage ###\n",
    "- Open **Anaconda prompt**/**Terminal** and type **jupyter lab**.  \n",
    "- A local server will be initialized and you will be brought to the jupyter lab environment in a new browser window.  \n",
    "- On the left side, open the navigation panel and navigate to the directory where you have saved the file `rawPy_reduction.ipynb`.  \n",
    "- Open the `rawPy_reduction.ipynb`. To use the functions provided with this tool you will notice at the beginning the call:  \n",
    "```python \n",
    "import rawPy as rp \n",
    "```\n",
    "- To analyze the data follow the instruction given in that notebook.  \n",
    "p.s. as a first try please follow the example given with the data provided in the example directory.  \n",
    "\n",
    "For routine operational usage you will save the file `rawPy_reduction.ipynb` in the same directory of the experimental data and experimental sheet. You may want to rename the file as `bxxx_r.ipynb`"
   ]
  },
  {
   "cell_type": "markdown",
   "metadata": {},
   "source": [
    "### 3. Functions documentation ###"
   ]
  },
  {
   "cell_type": "markdown",
   "metadata": {},
   "source": [
    "### List ###  \n",
    "```python \n",
    "load_data(filename, pandas=False)  \n",
    "\n",
    "save_data(exp_name, var, callingLocals=locals())  \n",
    "\n",
    "zero(arr, row_number)\n",
    "\n",
    "offset(arr, row1, row2)\n",
    "\n",
    "ElasticCorrection(stress, displacement, k)\n",
    "\n",
    "shear_strain(ec_disp, layer_thickness)\n",
    "\n",
    "plot(x,y,x_label,y_label)\n",
    "```"
   ]
  },
  {
   "cell_type": "markdown",
   "metadata": {},
   "source": [
    "### 3.1 Data Input / Output ###  \n",
    "There are two functions that allows to read and save data. "
   ]
  },
  {
   "cell_type": "markdown",
   "metadata": {},
   "source": [
    "**3.1.1. Read data**  \n",
    "call the function:  \n",
    "```python \n",
    "data = rp.load_data(filename, pandas=False) \n",
    "```\n",
    "Input:  \n",
    "`filename`: path to the directory of the data  \n",
    "Return:  \n",
    "By default a record array of the desired data.  \n",
    "**Option** if `pandas=True` it returns a Pandas dataframe\n",
    "\n",
    "Note:  \n",
    "it can read any tab separated ASCII file with a structure suc as:  \n",
    "\n",
    "| var_name_1 | var_name_2 | var_name_3 | ... | var_name_n | record number |  \n",
    "| --- | --- | --- | --- | --- | --- |  \n",
    "| var_unit_1 | var_unit_2 | var_unit_3 | ... | var_unit_n | var_unit |  \n",
    "| --- | --- | --- | --- | --- | --- |  \n",
    "| val | val | val | val | val | val |    \n"
   ]
  },
  {
   "cell_type": "markdown",
   "metadata": {},
   "source": [
    "**3.1.2. Save data**  \n",
    "call the function:  \n",
    "```python \n",
    "rp.save_data(exp_name, var, callingLocals=locals()) \n",
    "```\n",
    "Input:  \n",
    "`exp_name`: ereditated from the variable initialized when loaded the data.  \n",
    "`var`: a list of variables to be saved (e.g. data_out = [var1,var, .., varN])  \n",
    "`callingLocals=locals()`: a trick that I use to read variable name, never change it\n",
    "\n",
    "Return:  \n",
    "Save the data in the current directory with the name bxxx_data_rp\n",
    "\n",
    "Note:  \n",
    "The file is saved as a tab separated ASCII file with a structure suc as:  \n",
    "\n",
    "| var_name_1 | var_name_2 | var_name_3 | ... | var_name_n | record number |  \n",
    "| --- | --- | --- | --- | --- | --- |  \n",
    "| var_unit_1 | var_unit_2 | var_unit_3 | ... | var_unit_n | var_unit |  \n",
    "| --- | --- | --- | --- | --- | --- |  \n",
    "| val | val | val | val | val | val |    "
   ]
  },
  {
   "cell_type": "markdown",
   "metadata": {},
   "source": [
    "### 3.2 Utilities for data analysis ###"
   ]
  },
  {
   "cell_type": "markdown",
   "metadata": {},
   "source": [
    "**3.2.1 Zero data**  \n",
    "Set a zero point at the desired row number.  \n",
    "```python \n",
    "arr = rp.zero(arr, row_number)\n",
    "```\n",
    "Input:  \n",
    "Array where the operation should be performed  \n",
    "The row number at which the data should be zeroed  \n",
    "Output:  \n",
    "same array with values zeroes at the row number"
   ]
  },
  {
   "cell_type": "markdown",
   "metadata": {},
   "source": [
    "**3.2.3 Offset**  \n",
    "Perform an offset between two data points. The values between the points are set to the same value as the beginning row.  \n",
    "```python \n",
    "arr = rp.offset(arr, row1, row2) \n",
    "```\n",
    "\n",
    "Input:  \n",
    "array along which the offset should be performed  \n",
    "the beginning and ending row number of the interval to be offset  \n",
    "Return:  \n",
    "Same array with the two points offsetted. "
   ]
  },
  {
   "cell_type": "markdown",
   "metadata": {},
   "source": [
    "**3.2.4 Elastic Correction**  \n",
    "Perform the elastic correction for the strech of the ram.  \n",
    "```python \n",
    "arr_ec = rp.ElasticCorrection(stress, displacement, k) \n",
    "```\n",
    "\n",
    "Input:  \n",
    "stress ($\\sigma$): is the measured stress from the ram  \n",
    "displacement ($\\delta$): is the load point displacement measured from the LVDT  \n",
    "k: is the stiffness of the ram  \n",
    "Return:  \n",
    "array of elastic corrected displacement  \n",
    "**Note** There are no specified units in the function but make sure to use the proper ones.  \n",
    "\n",
    "Algorithm:  \n",
    "\n",
    "$\\delta_{ec(i+1)} = \\delta_{ec(i)}+(\\delta_{i+1}-\\delta_i)-\\frac{\\sigma_{i+1}-\\sigma_i}{k}$ "
   ]
  },
  {
   "cell_type": "markdown",
   "metadata": {},
   "source": [
    "**3.2.5 Shear strain**  \n",
    "Calculate the engineering shear strain during the experiments.  \n",
    "  \n",
    "```python \n",
    "shear_strain = rp.shear_strain(ec_disp, layer_thickness) \n",
    "```\n",
    "\n",
    "Input:  \n",
    "Elastic corrected displacement ($\\delta_{ec}$)  \n",
    "Layer thickness (*lt*)  \n",
    "\n",
    "Return:  \n",
    "Array of calculated shear strain ($\\gamma$)  \n",
    "\n",
    "Algorithm:  \n",
    "$\\gamma_{i+1} = \\gamma_i + \\frac {\\delta_{ec(i+1)}-\\delta_{ec(i)}}{lt_{i+1}+lt_{i}}*2$"
   ]
  },
  {
   "cell_type": "markdown",
   "metadata": {},
   "source": [
    "### 4. Plotting ###  \n",
    "So far there are two ways to plot data:  \n",
    "1. Directly write the proper code in the cell\n",
    "2. Use the plot() funtion"
   ]
  },
  {
   "cell_type": "markdown",
   "metadata": {},
   "source": [
    "**4.1 Plot data for analysis**\n",
    "call the funtion: \n",
    "```python \n",
    "rp.plot(x,y,x_label,y_label) \n",
    "```\n",
    "Input:  \n",
    "x and y arrays to plot  \n",
    "Option: you can name the labels, default is 'x_label' and 'y_label'  \n",
    "Return:  \n",
    "Figure  \n",
    "\n",
    "**Figure Usage**  \n",
    "- The figure is designed with a cross arrow indicating the position of the mouse on the object at any time. The coordinate values are shown in the figure title, so that you can read at any time the values where you position the mouse.  \n",
    "- **Righ click mouse event**: prints on the top righ corner of the figure the values of x and y coordinates where the mouse is pointing. \n"
   ]
  },
  {
   "cell_type": "markdown",
   "metadata": {},
   "source": [
    "## Author comments ##  \n",
    "There is still a very long to do list !!  \n",
    "Some of the things I will add soonish are: \n",
    "- Smoothing data \n",
    "- non linear elastic correction  \n",
    "- running average slope (i.e. derivative of the data)\n",
    "- RSF friction tool to perform inversion of experimental data  \n",
    "- More functions depending on users input  \n",
    "\n",
    "Something that is unlikely to happen any time soon: \n",
    "- put toghether a GUI \n",
    "\n",
    "For any comment/complain/suggestion email me at: marco.scuderi@uniroma1.it"
   ]
  }
 ],
 "metadata": {
  "kernelspec": {
   "display_name": "Python 3",
   "language": "python",
   "name": "python3"
  },
  "language_info": {
   "codemirror_mode": {
    "name": "ipython",
    "version": 3
   },
   "file_extension": ".py",
   "mimetype": "text/x-python",
   "name": "python",
   "nbconvert_exporter": "python",
   "pygments_lexer": "ipython3",
   "version": "3.7.4"
  }
 },
 "nbformat": 4,
 "nbformat_minor": 4
}
