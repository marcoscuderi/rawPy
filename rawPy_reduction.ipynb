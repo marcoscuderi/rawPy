{
 "cells": [
  {
   "cell_type": "code",
   "execution_count": 2,
   "metadata": {},
   "outputs": [],
   "source": [
    "import numpy as np \n",
    "import pandas as pd\n",
    "import matplotlib.pyplot as plt \n",
    "from rawPy import rawPy as rp\n",
    "import os\n",
    "\n",
    "cwd = os.getcwd()"
   ]
  },
  {
   "cell_type": "code",
   "execution_count": 3,
   "metadata": {},
   "outputs": [],
   "source": [
    "#Choose the preferred backend for interactive plotting\n",
    "%matplotlib qt"
   ]
  },
  {
   "cell_type": "markdown",
   "metadata": {},
   "source": [
    "##########################  \n",
    "**Date Run:** 2/3/18 Scuderi   \n",
    "**Date Reduced:** 3/7/18 Scuderi  \n",
    "##########################  \n",
    "**Material:** Wenchuan Drillin project WFSD-3P-6  \n",
    "**Configuration:** Double-Direct Shear 5x5 5x5 small grooves side blocks  \n",
    "**Normal stress:** 12MPa  \n",
    "**Shear velocity:** 10µm/s  \n",
    "**Velocity steps:** 0.3µm/s-1mm/s  \n",
    "**Slide-hold-slide:** 10-10000  \n",
    "**Notes:**  \n",
    "W1 = 8.24g  \n",
    "W2 = 8.28g  "
   ]
  },
  {
   "cell_type": "code",
   "execution_count": 4,
   "metadata": {},
   "outputs": [
    {
     "output_type": "stream",
     "name": "stdout",
     "text": "------------------------------------------------------\n|                Name|           Unit|        Records|\n-----------------------------------------------------\n|              V-LVDT|           (mm)|         223102|\n|              H-LVDT|           (mm)|         223102|\n|              V-LOAD|           (kN)|         223102|\n|              H-LOAD|           (kN)|         223102|\n|                Time|          (sec)|         223102|\n|              Record|            (.)|         223102|\n------------------------------------------------------\n"
    }
   ],
   "source": [
    "#LOAD DATA\n",
    "exp_name = os.path.join(cwd, 'example', 'b754s03wen6_12')\n",
    "data = rp.load_data('%s'%exp_name,pandas=True)"
   ]
  },
  {
   "cell_type": "code",
   "execution_count": 5,
   "metadata": {},
   "outputs": [],
   "source": [
    "# rename these two columns that will not change throughout the analysis\n",
    "time_s = data.Time\n",
    "records_na = data.Record # record must always be the last col when saving files"
   ]
  },
  {
   "cell_type": "markdown",
   "metadata": {},
   "source": [
    "### 1. Calculate Normal Stress "
   ]
  },
  {
   "cell_type": "code",
   "execution_count": 6,
   "metadata": {},
   "outputs": [
    {
     "output_type": "execute_result",
     "data": {
      "text/plain": "<rawPy.rawPy.Cursor at 0x1d415e76588>"
     },
     "metadata": {},
     "execution_count": 6
    }
   ],
   "source": [
    "# PLOT\n",
    "rp.plot(data.Record,data['H-LOAD'],'rec#','h_load')"
   ]
  },
  {
   "cell_type": "code",
   "execution_count": 7,
   "metadata": {},
   "outputs": [
    {
     "output_type": "execute_result",
     "data": {
      "text/plain": "<rawPy.rawPy.Cursor at 0x1d4144a4988>"
     },
     "metadata": {},
     "execution_count": 7
    }
   ],
   "source": [
    "#############  normal load ############ \n",
    "#### Normal load is applied at record\n",
    "\n",
    "beg_row_h = 342\n",
    "\n",
    "######################################\n",
    "# zero the data\n",
    "h_load = rp.zero(data['H-LOAD'],beg_row_h)\n",
    "# remove noise before load is applied \n",
    "h_load[:beg_row_h] = h_load[:beg_row_h]*0\n",
    "# calculate stress for DDS 5x5\n",
    "h_load =  h_load/(1000*0.0025)\n",
    "#add a small number to normal stress \n",
    "#so that we aren't dividing by 0 anywhere to calculate mu \n",
    "normal_stress_MPa = h_load + 1e-7\n",
    "del h_load\n",
    "\n",
    "rp.plot(data.Time,normal_stress_MPa,'Time [s]','Normal stress [MPa]')"
   ]
  },
  {
   "cell_type": "markdown",
   "metadata": {},
   "source": [
    "### 2. Calculate Shear Stress ####"
   ]
  },
  {
   "cell_type": "code",
   "execution_count": 8,
   "metadata": {},
   "outputs": [
    {
     "output_type": "execute_result",
     "data": {
      "text/plain": "<rawPy.rawPy.Cursor at 0x1d4144ecdc8>"
     },
     "metadata": {},
     "execution_count": 8
    }
   ],
   "source": [
    "# PLOT\n",
    "rp.plot(data.Record,data['V-LOAD'],'rec#','v_load [kN]')"
   ]
  },
  {
   "cell_type": "code",
   "execution_count": 9,
   "metadata": {},
   "outputs": [
    {
     "output_type": "execute_result",
     "data": {
      "text/plain": "<rawPy.rawPy.Cursor at 0x1d414967908>"
     },
     "metadata": {},
     "execution_count": 9
    }
   ],
   "source": [
    "#### Vertical stress ###\n",
    "#### This is the point at which the ram contacted the blocks and load shear loading began\n",
    "\n",
    "beg_row_v = 7625\n",
    "\n",
    "##################################\n",
    "\n",
    "# ZERO DATA\n",
    "v_load = rp.zero(data['V-LOAD'],beg_row_v)\n",
    "# add in force from the central block due to gravity \n",
    "v_load = v_load + 0.044 #[kN]\n",
    "# remove noise before load is applied\n",
    "v_load[:beg_row_v]= v_load[:beg_row_v]*0\n",
    "# calculate stress for DDS 5x5\n",
    "shear_stress_MPa = v_load/(2*1000*0.0025)\n",
    "del v_load\n",
    "\n",
    "#### vertical disp ####\n",
    "lp_disp_mm = rp.zero(data['V-LVDT'],beg_row_v)\n",
    "lp_disp_mm[:beg_row_v] = lp_disp_mm[:beg_row_v]*0\n",
    "lp_disp_mm = lp_disp_mm*-1\n",
    "\n",
    "rp.plot(data.Time,shear_stress_MPa,'Time [s]','Shear stress [MPa]')\n",
    "rp.plot(data.Time,lp_disp_mm,'Time [s]', 'lp_disp [mm]')"
   ]
  },
  {
   "cell_type": "markdown",
   "metadata": {},
   "source": [
    "**If necessary offset the data**"
   ]
  },
  {
   "cell_type": "code",
   "execution_count": 10,
   "metadata": {},
   "outputs": [],
   "source": [
    "# OFFSET data \n",
    "# takes as input row1, row2, col \n",
    "#example\n",
    "#row_1 = 89726\n",
    "#row_2 = 89737\n",
    "#lp_disp_mm = rp.offset(lp_disp_mm,row_1,row_2)\n",
    "#"
   ]
  },
  {
   "cell_type": "markdown",
   "metadata": {},
   "source": [
    "### 3. Correct for elastic strech of the vertical frame   \n",
    "\n",
    "| Verical stiffness | applied load | k[MPa/mm] | calibration date | \n",
    "| --- | --- | --- | --- |  \n",
    "| 359.75 [kN/mm] | < 50 [kN] | 116.801 [MPa/mm] | 19/11/2015 | \n",
    "| 928.5 [kN/mm] | > 50 [kN] | 301.461 [MPa/mm] | 19/11/2015 | \n",
    "\n",
    "Note:  \n",
    "1. These values are calculated for a 5x5[cm] shear surface  \n",
    "2. Stiffness is non linear at low applied loads  \n",
    "TO DO: implement a function that corrects for non-linear stiffness\n"
   ]
  },
  {
   "cell_type": "code",
   "execution_count": 11,
   "metadata": {},
   "outputs": [],
   "source": [
    "# Elastic correction for the stretch of the vertical frame # \n",
    "k = 166.801 #[MPa/mm]\n",
    "ec_disp_mm = rp.ElasticCorrection(shear_stress_MPa,lp_disp_mm,k)"
   ]
  },
  {
   "cell_type": "markdown",
   "metadata": {},
   "source": [
    "### 4. Correct for elastic strech of the horizontal frame   \n",
    "\n",
    "| Horizontal stiffness | applied load | k[MPa/mm] | calibration date | \n",
    "| --- | --- | --- | --- |  \n",
    "| 386.12 [kN/mm] | < 50 [kN] | 125.363 [MPa/mm] | 19/11/2015 | \n",
    "| 1283 [kN/mm] | > 50 [kN] | 416.558 [MPa/mm] | 19/11/2015 | \n",
    "\n",
    "Note:  \n",
    "1. These values are calculated for a 5x5[cm] shear surface  \n",
    "2. Stiffness is non linear at low applied loads  \n",
    "TO DO: implement a function that corrects for non-linear stiffness\n"
   ]
  },
  {
   "cell_type": "code",
   "execution_count": 12,
   "metadata": {},
   "outputs": [],
   "source": [
    "# Elastic correction for the stretch of the horizontal frame #\n",
    "k = 125.363 #[MPa/mm]\n",
    "lt_ec_mm = rp.ElasticCorrection(normal_stress_MPa,data['H-LVDT'],k)"
   ]
  },
  {
   "cell_type": "markdown",
   "metadata": {},
   "source": [
    "### 5. Calculate layer thickness   \n",
    "\n",
    "Treat changes in horizontal displacement ($\\Delta$h) as symmetric, take half of it for 1 layer.  \n",
    "Compaction = thinner layer  \n",
    "Thickness of DDS assembly with no gouge is:  \n",
    "\n",
    "| small groove blocks | large groove blocks | PZT side blocks |  \n",
    "| --- | --- | --- |  \n",
    "|99.7 mm | 95 mm | 102.54 mm |\n",
    "\n",
    "Bench thickness of initial layers & DDS is  --- [mm]  \n",
    "Bench thickness of 1 layer is: ---  [mm]\n",
    "\n",
    "Thickness of spacers:  \n",
    "\n",
    "| AA | BB | CC |  \n",
    "| --- | --- | --- |  \n",
    "|29.86 mm | -- mm | 6.12 mm |\n",
    "\n",
    "The layer thickness is calculated as:  \n",
    "layer_thickness = (total layer thickness)-(Assembly)-(Spacers) / 2  \n",
    "\n",
    "\n",
    "Total thickness is 137.14 mm at rec #6068  \n",
    "layer tickness is  (137.14- 99.7 -29.86-6.12)/2  \n",
    "Layer thickness for one layer under load is 0.73 mm  "
   ]
  },
  {
   "cell_type": "code",
   "execution_count": 14,
   "metadata": {},
   "outputs": [
    {
     "output_type": "execute_result",
     "data": {
      "text/plain": "<rawPy.rawPy.Cursor at 0x1d415d29508>"
     },
     "metadata": {},
     "execution_count": 14
    }
   ],
   "source": [
    "###########################################################\n",
    "# insert rec number at which layer thickness was measured\n",
    "rec_lt = 6068\n",
    "# insert calculated value at that poin\n",
    "val_lt = 0.73\n",
    "###########################################################\n",
    "# zero data\n",
    "lt_ec_mm = rp.zero(lt_ec_mm,rec_lt)\n",
    "lt_ec_mm = lt_ec_mm/2\n",
    "lt_ec_mm = lt_ec_mm + val_lt\n",
    "\n",
    "rp.plot(data.Time,lt_ec_mm,'Time [s]','Layer thickness [mm]')"
   ]
  },
  {
   "cell_type": "markdown",
   "metadata": {},
   "source": [
    "### 6. Remove geometrical thinning"
   ]
  },
  {
   "cell_type": "code",
   "execution_count": 15,
   "metadata": {},
   "outputs": [],
   "source": [
    "# default unit is [mm]\n",
    "rgt_lt_mm = rp.rgt(lp_disp_mm,lt_ec_mm)"
   ]
  },
  {
   "cell_type": "markdown",
   "metadata": {},
   "source": [
    "### 7. Calculate shear strain "
   ]
  },
  {
   "cell_type": "code",
   "execution_count": 16,
   "metadata": {},
   "outputs": [
    {
     "output_type": "execute_result",
     "data": {
      "text/plain": "<rawPy.rawPy.Cursor at 0x12054527988>"
     },
     "metadata": {},
     "execution_count": 16
    }
   ],
   "source": [
    "##### calculate strain ####\n",
    "shear_strain_na = rp.shear_strain(ec_disp_mm,lt_ec_mm)\n",
    "\n",
    "rp.plot(shear_strain_na,shear_stress_MPa,'Shear strain','Shear stress [MPa]')"
   ]
  },
  {
   "cell_type": "markdown",
   "metadata": {},
   "source": [
    "### 8. Calculate friction "
   ]
  },
  {
   "cell_type": "code",
   "execution_count": 14,
   "metadata": {},
   "outputs": [
    {
     "data": {
      "image/png": "[encoded data removed]",
      "text/plain": [
       "<Figure size 576x288 with 1 Axes>"
      ]
     },
     "metadata": {
      "needs_background": "light"
     },
     "output_type": "display_data"
    },
    {
     "data": {
      "text/plain": [
       "<rawPy.rawPy.Cursor at 0x7ff173829cd0>"
      ]
     },
     "execution_count": 14,
     "metadata": {},
     "output_type": "execute_result"
    }
   ],
   "source": [
    "# select last row of experiment for friction\n",
    "rp.plot(data.Record,shear_stress_MPa,'rec','shear stress')"
   ]
  },
  {
   "cell_type": "code",
   "execution_count": 17,
   "metadata": {},
   "outputs": [],
   "source": [
    "##### insert the last row \n",
    "end_row = 208901\n",
    "########################\n",
    "\n",
    "friction_na = shear_stress_MPa/normal_stress_MPa\n",
    "# remove the noise before and after vertical load\n",
    "friction_na[:beg_row_v] = friction_na[:beg_row_v]*0\n",
    "friction_na[end_row:] = friction_na[end_row:]*0\n",
    "\n",
    "#rp.plot(ec_disp_mm,friction_na,'ec_disp [mm]','friction')"
   ]
  },
  {
   "cell_type": "markdown",
   "metadata": {},
   "source": [
    "# Examples of additional functions"
   ]
  },
  {
   "cell_type": "markdown",
   "metadata": {},
   "source": [
    "### Calculate derivative (e.g. shear velocity)"
   ]
  },
  {
   "cell_type": "code",
   "execution_count": 16,
   "metadata": {},
   "outputs": [
    {
     "data": {
      "image/png": "[encoded data removed]",
      "text/plain": [
       "<Figure size 576x288 with 1 Axes>"
      ]
     },
     "metadata": {
      "needs_background": "light"
     },
     "output_type": "display_data"
    },
    {
     "data": {
      "text/plain": [
       "<rawPy.rawPy.Cursor at 0x7ff175c5e6d0>"
      ]
     },
     "execution_count": 16,
     "metadata": {},
     "output_type": "execute_result"
    }
   ],
   "source": [
    "shear_vel_mms = rp.rslope(time_s,lp_disp_mm,20)\n",
    "rp.plot(time_s,shear_vel_mms)"
   ]
  },
  {
   "cell_type": "markdown",
   "metadata": {},
   "source": [
    "### Filter data "
   ]
  },
  {
   "cell_type": "code",
   "execution_count": 18,
   "metadata": {},
   "outputs": [],
   "source": [
    "# you can filter al the experiment (not recommended)\n",
    "mu_low_pass = rp.filter_low_pass(time_s,friction_na,0.01,10)\n",
    "# you can filter only a portion of the experiment\n",
    "mu_low_pass = rp.filter_low_pass(time_s,friction_na,0.01,10,rows=[89000,189000])"
   ]
  },
  {
   "cell_type": "markdown",
   "metadata": {},
   "source": [
    "### Take the slope of a portion of the experiment"
   ]
  },
  {
   "cell_type": "code",
   "execution_count": 18,
   "metadata": {},
   "outputs": [
    {
     "name": "stdout",
     "output_type": "stream",
     "text": [
      "[-0.19174206  0.6646912 ]\n"
     ]
    },
    {
     "data": {
      "image/png": "[encoded data removed]",
      "text/plain": [
       "<Figure size 576x576 with 1 Axes>"
      ]
     },
     "metadata": {
      "needs_background": "light"
     },
     "output_type": "display_data"
    }
   ],
   "source": [
    "# coeff are from the lowest to highest order\n",
    "coeff = rp.slope(lp_disp_mm,friction_na,7926,8490)\n",
    "print (coeff)"
   ]
  },
  {
   "cell_type": "code",
   "execution_count": 19,
   "metadata": {},
   "outputs": [
    {
     "name": "stdout",
     "output_type": "stream",
     "text": [
      "[ -0.51334035   3.98099454 -10.94956166  14.35209173  -6.49268931]\n"
     ]
    },
    {
     "data": {
      "image/png": "[encoded data removed]",
      "text/plain": [
       "<Figure size 576x576 with 1 Axes>"
      ]
     },
     "metadata": {
      "needs_background": "light"
     },
     "output_type": "display_data"
    }
   ],
   "source": [
    "# or you can choose a higher polynominal fit\n",
    "coeff = rp.slope(lp_disp_mm,friction_na,7926,8490,4)\n",
    "print (coeff)"
   ]
  },
  {
   "cell_type": "markdown",
   "metadata": {},
   "source": [
    "### 9. Export reduced data ###"
   ]
  },
  {
   "cell_type": "code",
   "execution_count": 21,
   "metadata": {},
   "outputs": [
    {
     "name": "stdout",
     "output_type": "stream",
     "text": [
      "Saving data\n",
      "\n",
      "------------------------------------------------------\n",
      "|                Name|           Unit|        Records|\n",
      "-----------------------------------------------------\n",
      "|    shear_stress_MPa|            MPa|         223103|\n",
      "|          lp_disp_mm|             mm|         223103|\n",
      "|          ec_disp_mm|             mm|         223103|\n",
      "|   normal_stress_MPa|            MPa|         223103|\n",
      "|            lt_ec_mm|             mm|         223103|\n",
      "|           rgt_lt_mm|             mm|         223103|\n",
      "|         friction_na|             na|         223103|\n",
      "|     shear_strain_na|             na|         223103|\n",
      "|              time_s|              s|         223103|\n",
      "|          records_na|             na|         223103|\n",
      "------------------------------------------------------\n"
     ]
    }
   ],
   "source": [
    "\n",
    "data_out = [shear_stress_MPa,\n",
    "            lp_disp_mm,\n",
    "            ec_disp_mm, \n",
    "            normal_stress_MPa,\n",
    "            lt_ec_mm, \n",
    "            rgt_lt_mm,\n",
    "            friction_na,\n",
    "            shear_strain_na, \n",
    "            time_s,\n",
    "            records_na]\n",
    "            \n",
    "rp.save_data(exp_name,data_out,callingLocals=locals())"
   ]
  },
  {
   "cell_type": "markdown",
   "metadata": {},
   "source": [
    "# Compare the results obtained with rawPy against the same experiment analyzed with xlook"
   ]
  },
  {
   "cell_type": "code",
   "execution_count": 22,
   "metadata": {},
   "outputs": [
    {
     "name": "stdout",
     "output_type": "stream",
     "text": [
      "------------------------------------------------------\n",
      "|                Name|           Unit|        Records|\n",
      "-----------------------------------------------------\n",
      "|    shear_stress_MPa|            MPa|         223102|\n",
      "|          lp_disp_mm|             mm|         223102|\n",
      "|          ec_disp_mm|             mm|         223102|\n",
      "|   normal_stress_MPa|            MPa|         223102|\n",
      "|            lt_ec_mm|             mm|         223102|\n",
      "|           rgt_lt_mm|             mm|         223102|\n",
      "|         friction_na|             na|         223102|\n",
      "|     shear_strain_na|             na|         223102|\n",
      "|              time_s|              s|         223102|\n",
      "|          records_na|             na|         223102|\n",
      "------------------------------------------------------\n"
     ]
    }
   ],
   "source": [
    "## import the data analyzed as pandas data frame\n",
    "exp_name = os.path.join(cwd, 'example', 'b754_data_rp')\n",
    "data_rawPy = rp.load_data(exp_name,pandas=True)"
   ]
  },
  {
   "cell_type": "code",
   "execution_count": 23,
   "metadata": {},
   "outputs": [
    {
     "data": {
      "text/html": [
       "<div>\n",
       "<style scoped>\n",
       "    .dataframe tbody tr th:only-of-type {\n",
       "        vertical-align: middle;\n",
       "    }\n",
       "\n",
       "    .dataframe tbody tr th {\n",
       "        vertical-align: top;\n",
       "    }\n",
       "\n",
       "    .dataframe thead th {\n",
       "        text-align: right;\n",
       "    }\n",
       "</style>\n",
       "<table border=\"1\" class=\"dataframe\">\n",
       "  <thead>\n",
       "    <tr style=\"text-align: right;\">\n",
       "      <th></th>\n",
       "      <th>RecNum</th>\n",
       "      <th>lp_disp</th>\n",
       "      <th>LT</th>\n",
       "      <th>Tau</th>\n",
       "      <th>SigN</th>\n",
       "      <th>Time</th>\n",
       "      <th>ec_disp</th>\n",
       "      <th>mu</th>\n",
       "      <th>Shear_Strain</th>\n",
       "      <th>rgt_LT</th>\n",
       "    </tr>\n",
       "  </thead>\n",
       "  <tbody>\n",
       "    <tr>\n",
       "      <th>0</th>\n",
       "      <td>0</td>\n",
       "      <td>0.000</td>\n",
       "      <td>2805.247760</td>\n",
       "      <td>-0.000000</td>\n",
       "      <td>1.000000e-07</td>\n",
       "      <td>0.0</td>\n",
       "      <td>0.000000</td>\n",
       "      <td>-0.0</td>\n",
       "      <td>0.000000</td>\n",
       "      <td>2805.247760</td>\n",
       "    </tr>\n",
       "    <tr>\n",
       "      <th>1</th>\n",
       "      <td>1</td>\n",
       "      <td>0.000</td>\n",
       "      <td>2805.239760</td>\n",
       "      <td>-0.000000</td>\n",
       "      <td>1.000000e-07</td>\n",
       "      <td>0.1</td>\n",
       "      <td>0.000000</td>\n",
       "      <td>-0.0</td>\n",
       "      <td>0.000000</td>\n",
       "      <td>2805.247760</td>\n",
       "    </tr>\n",
       "    <tr>\n",
       "      <th>2</th>\n",
       "      <td>2</td>\n",
       "      <td>0.000</td>\n",
       "      <td>2805.238260</td>\n",
       "      <td>-0.000000</td>\n",
       "      <td>1.000000e-07</td>\n",
       "      <td>0.2</td>\n",
       "      <td>0.000000</td>\n",
       "      <td>-0.0</td>\n",
       "      <td>0.000000</td>\n",
       "      <td>2805.239760</td>\n",
       "    </tr>\n",
       "    <tr>\n",
       "      <th>3</th>\n",
       "      <td>3</td>\n",
       "      <td>0.000</td>\n",
       "      <td>2805.232760</td>\n",
       "      <td>-0.000000</td>\n",
       "      <td>1.000000e-07</td>\n",
       "      <td>0.3</td>\n",
       "      <td>0.000000</td>\n",
       "      <td>-0.0</td>\n",
       "      <td>0.000000</td>\n",
       "      <td>2805.238260</td>\n",
       "    </tr>\n",
       "    <tr>\n",
       "      <th>4</th>\n",
       "      <td>4</td>\n",
       "      <td>0.000</td>\n",
       "      <td>2805.246760</td>\n",
       "      <td>-0.000000</td>\n",
       "      <td>1.000000e-07</td>\n",
       "      <td>0.4</td>\n",
       "      <td>0.000000</td>\n",
       "      <td>-0.0</td>\n",
       "      <td>0.000000</td>\n",
       "      <td>2805.232760</td>\n",
       "    </tr>\n",
       "    <tr>\n",
       "      <th>...</th>\n",
       "      <td>...</td>\n",
       "      <td>...</td>\n",
       "      <td>...</td>\n",
       "      <td>...</td>\n",
       "      <td>...</td>\n",
       "      <td>...</td>\n",
       "      <td>...</td>\n",
       "      <td>...</td>\n",
       "      <td>...</td>\n",
       "      <td>...</td>\n",
       "    </tr>\n",
       "    <tr>\n",
       "      <th>223098</th>\n",
       "      <td>223098</td>\n",
       "      <td>22012.030</td>\n",
       "      <td>644.625450</td>\n",
       "      <td>0.061845</td>\n",
       "      <td>8.294210e-02</td>\n",
       "      <td>24783.0</td>\n",
       "      <td>22.011501</td>\n",
       "      <td>0.0</td>\n",
       "      <td>52.598494</td>\n",
       "      <td>743.264579</td>\n",
       "    </tr>\n",
       "    <tr>\n",
       "      <th>223099</th>\n",
       "      <td>223099</td>\n",
       "      <td>22012.045</td>\n",
       "      <td>644.623263</td>\n",
       "      <td>0.062259</td>\n",
       "      <td>8.286370e-02</td>\n",
       "      <td>24784.0</td>\n",
       "      <td>22.011512</td>\n",
       "      <td>0.0</td>\n",
       "      <td>52.598512</td>\n",
       "      <td>743.265827</td>\n",
       "    </tr>\n",
       "    <tr>\n",
       "      <th>223100</th>\n",
       "      <td>223100</td>\n",
       "      <td>22012.021</td>\n",
       "      <td>644.627690</td>\n",
       "      <td>0.062463</td>\n",
       "      <td>8.238050e-02</td>\n",
       "      <td>24785.0</td>\n",
       "      <td>22.011486</td>\n",
       "      <td>0.0</td>\n",
       "      <td>52.598472</td>\n",
       "      <td>743.263485</td>\n",
       "    </tr>\n",
       "    <tr>\n",
       "      <th>223101</th>\n",
       "      <td>223101</td>\n",
       "      <td>22012.034</td>\n",
       "      <td>644.627921</td>\n",
       "      <td>0.062476</td>\n",
       "      <td>8.194650e-02</td>\n",
       "      <td>24786.0</td>\n",
       "      <td>22.011499</td>\n",
       "      <td>0.0</td>\n",
       "      <td>52.598492</td>\n",
       "      <td>743.267996</td>\n",
       "    </tr>\n",
       "    <tr>\n",
       "      <th>223102</th>\n",
       "      <td>223102</td>\n",
       "      <td>22012.031</td>\n",
       "      <td>644.622423</td>\n",
       "      <td>0.062505</td>\n",
       "      <td>8.319970e-02</td>\n",
       "      <td>24787.0</td>\n",
       "      <td>22.011496</td>\n",
       "      <td>0.0</td>\n",
       "      <td>52.598487</td>\n",
       "      <td>743.268208</td>\n",
       "    </tr>\n",
       "  </tbody>\n",
       "</table>\n",
       "<p>223103 rows × 10 columns</p>\n",
       "</div>"
      ],
      "text/plain": [
       "        RecNum    lp_disp           LT       Tau          SigN     Time  \\\n",
       "0            0      0.000  2805.247760 -0.000000  1.000000e-07      0.0   \n",
       "1            1      0.000  2805.239760 -0.000000  1.000000e-07      0.1   \n",
       "2            2      0.000  2805.238260 -0.000000  1.000000e-07      0.2   \n",
       "3            3      0.000  2805.232760 -0.000000  1.000000e-07      0.3   \n",
       "4            4      0.000  2805.246760 -0.000000  1.000000e-07      0.4   \n",
       "...        ...        ...          ...       ...           ...      ...   \n",
       "223098  223098  22012.030   644.625450  0.061845  8.294210e-02  24783.0   \n",
       "223099  223099  22012.045   644.623263  0.062259  8.286370e-02  24784.0   \n",
       "223100  223100  22012.021   644.627690  0.062463  8.238050e-02  24785.0   \n",
       "223101  223101  22012.034   644.627921  0.062476  8.194650e-02  24786.0   \n",
       "223102  223102  22012.031   644.622423  0.062505  8.319970e-02  24787.0   \n",
       "\n",
       "          ec_disp   mu  Shear_Strain       rgt_LT  \n",
       "0        0.000000 -0.0      0.000000  2805.247760  \n",
       "1        0.000000 -0.0      0.000000  2805.247760  \n",
       "2        0.000000 -0.0      0.000000  2805.239760  \n",
       "3        0.000000 -0.0      0.000000  2805.238260  \n",
       "4        0.000000 -0.0      0.000000  2805.232760  \n",
       "...           ...  ...           ...          ...  \n",
       "223098  22.011501  0.0     52.598494   743.264579  \n",
       "223099  22.011512  0.0     52.598512   743.265827  \n",
       "223100  22.011486  0.0     52.598472   743.263485  \n",
       "223101  22.011499  0.0     52.598492   743.267996  \n",
       "223102  22.011496  0.0     52.598487   743.268208  \n",
       "\n",
       "[223103 rows x 10 columns]"
      ]
     },
     "execution_count": 23,
     "metadata": {},
     "output_type": "execute_result"
    }
   ],
   "source": [
    "xlook_file = os.path.join(cwd, 'example', 'b754_xlook.txt')\n",
    "data_xlook = pd.read_csv(xlook_file,skiprows=[1],delimiter=',')\n",
    "data_xlook"
   ]
  },
  {
   "cell_type": "code",
   "execution_count": 24,
   "metadata": {},
   "outputs": [
    {
     "data": {
      "text/plain": [
       "<matplotlib.legend.Legend at 0x7ff170ece9d0>"
      ]
     },
     "execution_count": 24,
     "metadata": {},
     "output_type": "execute_result"
    },
    {
     "data": {
      "image/png": "[encoded data removed]",
      "text/plain": [
       "<Figure size 576x576 with 1 Axes>"
      ]
     },
     "metadata": {
      "needs_background": "light"
     },
     "output_type": "display_data"
    }
   ],
   "source": [
    "# compare ec_disp vs friction\n",
    "f, ax = plt.subplots(1,1,figsize=(8,8))\n",
    "ax.plot(data_xlook.ec_disp,data_xlook.mu,'k',label='xlook')\n",
    "ax.plot(data_rawPy.ec_disp_mm, data_rawPy.friction_na,'r',label='rawPy')\n",
    "ax.set_ylabel('Friction')\n",
    "ax.set_xlabel('ec_disp [mm]')\n",
    "ax.legend(loc='upper right')"
   ]
  },
  {
   "cell_type": "code",
   "execution_count": 25,
   "metadata": {},
   "outputs": [
    {
     "data": {
      "text/plain": [
       "<matplotlib.legend.Legend at 0x7ff1540e05e0>"
      ]
     },
     "execution_count": 25,
     "metadata": {},
     "output_type": "execute_result"
    },
    {
     "data": {
      "image/png": "[encoded data removed]",
      "text/plain": [
       "<Figure size 576x576 with 1 Axes>"
      ]
     },
     "metadata": {
      "needs_background": "light"
     },
     "output_type": "display_data"
    }
   ],
   "source": [
    "# compare shear_strain vs friction\n",
    "\n",
    "f, ax = plt.subplots(1,1,figsize=(8,8))\n",
    "ax.plot(data_xlook.Shear_Strain,data_xlook.mu,'k',label='xlook')\n",
    "ax.plot(data_rawPy.shear_strain_na, data_rawPy.friction_na,'r',label='rawPy')\n",
    "ax.set_ylabel('Friction')\n",
    "ax.set_xlabel('shear strain')\n",
    "ax.legend(loc='upper right')"
   ]
  },
  {
   "cell_type": "code",
   "execution_count": 26,
   "metadata": {},
   "outputs": [
    {
     "data": {
      "text/plain": [
       "<matplotlib.legend.Legend at 0x7ff1540c68e0>"
      ]
     },
     "execution_count": 26,
     "metadata": {},
     "output_type": "execute_result"
    },
    {
     "data": {
      "image/png": "[encoded data removed]",
      "text/plain": [
       "<Figure size 576x576 with 1 Axes>"
      ]
     },
     "metadata": {
      "needs_background": "light"
     },
     "output_type": "display_data"
    }
   ],
   "source": [
    "# compare time vs rgt (corrected layer thickness)\n",
    "\n",
    "f, ax = plt.subplots(1,1,figsize=(8,8))\n",
    "ax.plot(data_xlook.Time,data_xlook.rgt_LT,'k',label='xlook')\n",
    "ax.plot(data_rawPy.time_s, data_rawPy.rgt_lt_mm*1000,'r',label='rawPy')\n",
    "ax.set_ylabel('Friction')\n",
    "ax.set_xlabel('shear strain')\n",
    "ax.legend(loc='upper right')"
   ]
  },
  {
   "cell_type": "code",
   "execution_count": null,
   "metadata": {},
   "outputs": [],
   "source": []
  }
 ],
 "metadata": {
  "kernelspec": {
   "display_name": "Python 3",
   "language": "python",
   "name": "python3"
  },
  "language_info": {
   "codemirror_mode": {
    "name": "ipython",
    "version": 3
   },
   "file_extension": ".py",
   "mimetype": "text/x-python",
   "name": "python",
   "nbconvert_exporter": "python",
   "pygments_lexer": "ipython3",
   "version": "3.7.6-final"
  }
 },
 "nbformat": 4,
 "nbformat_minor": 4
}