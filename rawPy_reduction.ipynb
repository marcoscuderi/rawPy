{
 "cells": [
  {
   "cell_type": "code",
   "execution_count": 1,
   "metadata": {},
   "outputs": [],
   "source": [
    "import numpy as np \n",
    "import matplotlib.pyplot as plt \n",
    "import rawPy as rp"
   ]
  },
  {
   "cell_type": "code",
   "execution_count": 2,
   "metadata": {},
   "outputs": [],
   "source": [
    "#Choose the preferred backend for interactive plotting\n",
    "%matplotlib qt"
   ]
  },
  {
   "cell_type": "markdown",
   "metadata": {},
   "source": [
    "##########################  \n",
    "**Date Run:** 2/3/18 Scuderi   \n",
    "**Date Reduced:** 3/7/18 Scuderi  \n",
    "##########################  \n",
    "**Material:** Wenchuan Drillin project WFSD-3P-6  \n",
    "**Configuration:** Double-Direct Shear 5x5 5x5 small grooves side blocks  \n",
    "**Normal stress:** 12MPa  \n",
    "**Shear velocity:** 10µm/s  \n",
    "**Velocity steps:** 0.3µm/s-1mm/s  \n",
    "**Slide-hold-slide:** 10-10000  \n",
    "**Notes:**  \n",
    "W1 = 8.24g  \n",
    "W2 = 8.28g  "
   ]
  },
  {
   "cell_type": "code",
   "execution_count": 3,
   "metadata": {},
   "outputs": [
    {
     "name": "stdout",
     "output_type": "stream",
     "text": [
      "------------------------------------------------------\n",
      "|                Name|           Unit|        Records|\n",
      "-----------------------------------------------------\n",
      "|              V-LVDT|           (mm)|         223102|\n",
      "|              H-LVDT|           (mm)|         223102|\n",
      "|              V-LOAD|           (kN)|         223102|\n",
      "|              H-LOAD|           (kN)|         223102|\n",
      "|                Time|          (sec)|         223102|\n",
      "|              Record|            (.)|         223102|\n",
      "------------------------------------------------------\n"
     ]
    }
   ],
   "source": [
    "#LOAD DATA\n",
    "exp_name = 'b754s03wen6_12'\n",
    "data = rp.load_data('%s'%exp_name)"
   ]
  },
  {
   "cell_type": "markdown",
   "metadata": {},
   "source": [
    "#### 1. Calculate Normal Stress ####"
   ]
  },
  {
   "cell_type": "code",
   "execution_count": 5,
   "metadata": {},
   "outputs": [
    {
     "data": {
      "text/plain": [
       "<rawPy.Cursor at 0x1ececc88cc8>"
      ]
     },
     "execution_count": 5,
     "metadata": {},
     "output_type": "execute_result"
    }
   ],
   "source": [
    "# PLOT\n",
    "rp.plot(data.Record,data['H-LOAD'],'rec#','h_load')"
   ]
  },
  {
   "cell_type": "code",
   "execution_count": 11,
   "metadata": {},
   "outputs": [
    {
     "data": {
      "text/plain": [
       "<rawPy.Cursor at 0x1ecf315eb48>"
      ]
     },
     "execution_count": 11,
     "metadata": {},
     "output_type": "execute_result"
    }
   ],
   "source": [
    "#############  normal load ############ \n",
    "#### Normal load is applied at record\n",
    "\n",
    "beg_row_h = 342\n",
    "\n",
    "######################################\n",
    "# zero the data\n",
    "h_load = rp.zero(data['H-LOAD'],beg_row_h)\n",
    "# remove noise before load is applied \n",
    "h_load[:beg_row_h] = h_load[:beg_row_h]*0\n",
    "# calculate stress for DDS 5x5\n",
    "h_load =  h_load/(1000*0.0025)\n",
    "#add a small number to normal stress \n",
    "#so that we aren't dividing by 0 anywhere to calculate mu \n",
    "normal_stress_MPa = h_load + 1e-7\n",
    "del h_load\n",
    "\n",
    "rp.plot(data.Time,normal_stress_MPa,'Time [s]','Normal stress [MPa]')"
   ]
  },
  {
   "cell_type": "markdown",
   "metadata": {},
   "source": [
    "#### 2. Calculate Shear Stress ####"
   ]
  },
  {
   "cell_type": "code",
   "execution_count": 12,
   "metadata": {},
   "outputs": [
    {
     "data": {
      "text/plain": [
       "<rawPy.Cursor at 0x1ecf328ecc8>"
      ]
     },
     "execution_count": 12,
     "metadata": {},
     "output_type": "execute_result"
    }
   ],
   "source": [
    "# PLOT\n",
    "rp.plot(data.Record,data['V-LOAD'],'rec#','v_load [kN]')"
   ]
  },
  {
   "cell_type": "code",
   "execution_count": 13,
   "metadata": {},
   "outputs": [
    {
     "data": {
      "text/plain": [
       "<rawPy.Cursor at 0x1ecf354ab88>"
      ]
     },
     "execution_count": 13,
     "metadata": {},
     "output_type": "execute_result"
    }
   ],
   "source": [
    "#### Vertical stress ###\n",
    "#### This is the point at which the ram contacted the blocks and load shear loading began\n",
    "\n",
    "beg_row_v = 7625\n",
    "\n",
    "##################################\n",
    "\n",
    "# ZERO DATA\n",
    "v_load = rp.zero(data['V-LOAD'],beg_row_v)\n",
    "# add in force from the central block due to gravity \n",
    "v_load = v_load + 0.044 #[kN]\n",
    "# remove noise before load is applied\n",
    "v_load[:beg_row_v]= v_load[:beg_row_v]*0\n",
    "# calculate stress for DDS 5x5\n",
    "shear_stress_MPa = v_load/(2*1000*0.0025)\n",
    "del v_load\n",
    "\n",
    "#### vertical disp ####\n",
    "lp_disp_mm = rp.zero(data['V-LVDT'],beg_row_v)\n",
    "lp_disp_mm[:beg_row_v] = lp_disp_mm[:beg_row_v]*0\n",
    "lp_disp_mm = lp_disp_mm*-1\n",
    "\n",
    "rp.plot(data.Time,shear_stress_MPa,'Time [s]','Shear stress [MPa]')\n",
    "rp.plot(data.Time,lp_disp_mm,'Time [s]', 'lp_disp [mm]')"
   ]
  },
  {
   "cell_type": "markdown",
   "metadata": {},
   "source": [
    "**If necessary offset the data**"
   ]
  },
  {
   "cell_type": "code",
   "execution_count": 9,
   "metadata": {},
   "outputs": [],
   "source": [
    "# OFFSET data \n",
    "# takes as input row1, row2, col \n",
    "#example\n",
    "#row_1 = 89726\n",
    "#row_2 = 89737\n",
    "#lp_disp = rp.offset(lp_disp,row_1,row_2)\n",
    "#"
   ]
  },
  {
   "cell_type": "markdown",
   "metadata": {},
   "source": [
    "#### 3. Correct for elastic strech of the vertical frame ####  \n",
    "\n",
    "| Verical stiffness | applied load | k[MPa/mm] | calibration date | \n",
    "| --- | --- | --- | --- |  \n",
    "| 359.75 [kN/mm] | < 50 [kN] | 116.801 [MPa/mm] | 19/11/2015 | \n",
    "| 928.5 [kN/mm] | > 50 [kN] | 301.461 [MPa/mm] | 19/11/2015 | \n",
    "\n",
    "Note:  \n",
    "1. These values are calculated for a 5x5[cm] shear surface  \n",
    "2. Stiffness is non linear at low applied loads  \n",
    "TO DO: implement a function that corrects for non-linear stiffness\n"
   ]
  },
  {
   "cell_type": "code",
   "execution_count": 15,
   "metadata": {},
   "outputs": [
    {
     "data": {
      "text/plain": [
       "<matplotlib.legend.Legend at 0x1ecf38483c8>"
      ]
     },
     "execution_count": 15,
     "metadata": {},
     "output_type": "execute_result"
    }
   ],
   "source": [
    "# Elastic correction for the stretch of the vertical frame # \n",
    "k = 166.801 #[MPa/mm]\n",
    "ec_disp_mm = rp.ElasticCorrection(shear_stress_MPa,lp_disp_mm,k)\n",
    "\n",
    "fig = plt.figure()\n",
    "plt.plot(data.Time,ec_disp_mm,'r', label='ec_disp')\n",
    "plt.plot(data.Time,lp_disp_mm,'b', label='lp_disp')\n",
    "plt.xlabel('Time [s]')\n",
    "plt.ylabel('Disp [mm]')\n",
    "plt.legend(loc='upper right')"
   ]
  },
  {
   "cell_type": "markdown",
   "metadata": {},
   "source": [
    "#### 4. Correct for elastic strech of the horizontal frame ####  \n",
    "\n",
    "| Horizontal stiffness | applied load | k[MPa/mm] | calibration date | \n",
    "| --- | --- | --- | --- |  \n",
    "| 386.12 [kN/mm] | < 50 [kN] | 125.363 [MPa/mm] | 19/11/2015 | \n",
    "| 1283 [kN/mm] | > 50 [kN] | 416.558 [MPa/mm] | 19/11/2015 | \n",
    "\n",
    "Note:  \n",
    "1. These values are calculated for a 5x5[cm] shear surface  \n",
    "2. Stiffness is non linear at low applied loads  \n",
    "TO DO: implement a function that corrects for non-linear stiffness\n"
   ]
  },
  {
   "cell_type": "code",
   "execution_count": 20,
   "metadata": {},
   "outputs": [],
   "source": [
    "# Elastic correction for the stretch of the horizontal frame #\n",
    "k = 125.363 #[MPa/mm]\n",
    "lt_ec_mm = rp.ElasticCorrection(normal_stress_MPa,data['H-LVDT'],k)"
   ]
  },
  {
   "cell_type": "markdown",
   "metadata": {},
   "source": [
    "### 5. Calculate layer thickness ###  \n",
    "\n",
    "Treat changes in horizontal displacement ($\\Delta$h) as symmetric, take half of it for 1 layer.  \n",
    "Compaction = thinner layer  \n",
    "Thickness of DDS assembly with no gouge is:  \n",
    "\n",
    "| small groove blocks | large groove blocks | PZT side blocks |  \n",
    "| --- | --- | --- |  \n",
    "|99.7 mm | 95 mm | 102.54 mm |\n",
    "\n",
    "Bench thickness of initial layers & DDS is  --- [mm]  \n",
    "Bench thickness of 1 layer is: ---  [mm]\n",
    "\n",
    "Thickness of spacers:  \n",
    "\n",
    "| AA | BB | CC |  \n",
    "| --- | --- | --- |  \n",
    "|29.86 mm | -- mm | 6.12 mm |\n",
    "\n",
    "The layer thickness is calculated as:  \n",
    "layer_thickness = (total layer thickness)-(Assembly)-(Spacers) / 2  \n",
    "\n",
    "\n",
    "Total thickness is 137.14 mm at rec #6068  \n",
    "layer tickness is  (137.14- 99.7 -29.86-6.12)/2  \n",
    "Layer thickness for one layer under load is 0.73 mm  "
   ]
  },
  {
   "cell_type": "code",
   "execution_count": 21,
   "metadata": {},
   "outputs": [
    {
     "data": {
      "text/plain": [
       "<rawPy.Cursor at 0x1ecf2cec848>"
      ]
     },
     "execution_count": 21,
     "metadata": {},
     "output_type": "execute_result"
    }
   ],
   "source": [
    "###########################################################\n",
    "# insert rec number at which layer thickness was measured\n",
    "rec_lt = 6068\n",
    "# insert calculated value at that poin\n",
    "val_lt = 0.73\n",
    "###########################################################\n",
    "# zero data\n",
    "lt_ec_mm = rp.zero(lt_ec_mm,rec_lt)\n",
    "lt_ec_mm = lt_ec_mm/2\n",
    "lt_ec_mm = lt_ec_mm + val_lt\n",
    "\n",
    "rp.plot(data.Time,lt_ec_mm,'Time [s]','Layer thickness [mm]')"
   ]
  },
  {
   "cell_type": "markdown",
   "metadata": {},
   "source": [
    "### 6. Calculate shear strain ###"
   ]
  },
  {
   "cell_type": "code",
   "execution_count": 22,
   "metadata": {},
   "outputs": [
    {
     "data": {
      "text/plain": [
       "<rawPy.Cursor at 0x1ecf3078588>"
      ]
     },
     "execution_count": 22,
     "metadata": {},
     "output_type": "execute_result"
    }
   ],
   "source": [
    "##### calculate strain ####\n",
    "shear_strain_na = rp.shear_strain(ec_disp_mm,lt_ec_mm)\n",
    "\n",
    "rp.plot(shear_strain_na,shear_stress_MPa,'Shear strain','Shear stress [MPa]')"
   ]
  },
  {
   "cell_type": "markdown",
   "metadata": {},
   "source": [
    "### 7. Calculate friction ###"
   ]
  },
  {
   "cell_type": "code",
   "execution_count": 23,
   "metadata": {},
   "outputs": [
    {
     "data": {
      "text/plain": [
       "<rawPy.Cursor at 0x1ecf2dc6488>"
      ]
     },
     "execution_count": 23,
     "metadata": {},
     "output_type": "execute_result"
    }
   ],
   "source": [
    "# select last row of experiment for friction\n",
    "rp.plot(data.Record,shear_stress_MPa,'rec','shear stress')"
   ]
  },
  {
   "cell_type": "code",
   "execution_count": 24,
   "metadata": {},
   "outputs": [
    {
     "data": {
      "text/plain": [
       "<rawPy.Cursor at 0x1ecf34a4b08>"
      ]
     },
     "execution_count": 24,
     "metadata": {},
     "output_type": "execute_result"
    }
   ],
   "source": [
    "##### insert the last row \n",
    "end_row = 208901\n",
    "########################\n",
    "\n",
    "friction_na = shear_stress_MPa/normal_stress_MPa\n",
    "# remove the noise before and after vertical load\n",
    "friction_na[:beg_row_v] = friction_na[:beg_row_v]*0\n",
    "friction_na[end_row:] = friction_na[end_row:]*0\n",
    "\n",
    "rp.plot(ec_disp_mm,friction_na,'ec_disp [mm]','friction')"
   ]
  },
  {
   "cell_type": "markdown",
   "metadata": {},
   "source": [
    "### 8. Export reduced data ###"
   ]
  },
  {
   "cell_type": "code",
   "execution_count": 25,
   "metadata": {},
   "outputs": [
    {
     "name": "stdout",
     "output_type": "stream",
     "text": [
      "Saving data\n",
      "\n",
      "------------------------------------------------------\n",
      "|                Name|           Unit|        Records|\n",
      "-----------------------------------------------------\n",
      "|    shear_stress_MPa|            MPa|         223103|\n",
      "|          lp_disp_mm|             mm|         223103|\n",
      "|          ec_disp_mm|             mm|         223103|\n",
      "|   normal_stress_MPa|            MPa|         223103|\n",
      "|            lt_ec_mm|             mm|         223103|\n",
      "|         friction_na|             na|         223103|\n",
      "|     shear_strain_na|             na|         223103|\n",
      "|              time_s|              s|         223103|\n",
      "|          records_na|             na|         223103|\n",
      "------------------------------------------------------\n"
     ]
    }
   ],
   "source": [
    "time_s = data.Time\n",
    "records_na = data.Record # record must always be the last col\n",
    "\n",
    "data_out = [shear_stress_MPa,\n",
    "            lp_disp_mm,\n",
    "            ec_disp_mm,\n",
    "            normal_stress_MPa,\n",
    "            lt_ec_mm,\n",
    "            friction_na,\n",
    "            shear_strain_na,\n",
    "            time_s,\n",
    "            records_na]\n",
    "            \n",
    "rp.save_data(exp_name,data_out,callingLocals=locals())"
   ]
  },
  {
   "cell_type": "code",
   "execution_count": 26,
   "metadata": {},
   "outputs": [
    {
     "name": "stdout",
     "output_type": "stream",
     "text": [
      "------------------------------------------------------\n",
      "|                Name|           Unit|        Records|\n",
      "-----------------------------------------------------\n",
      "|    shear_stress_MPa|            MPa|         223102|\n",
      "|          lp_disp_mm|             mm|         223102|\n",
      "|          ec_disp_mm|             mm|         223102|\n",
      "|   normal_stress_MPa|            MPa|         223102|\n",
      "|            lt_ec_mm|             mm|         223102|\n",
      "|         friction_na|             na|         223102|\n",
      "|     shear_strain_na|             na|         223102|\n",
      "|              time_s|              s|         223102|\n",
      "|          records_na|             na|         223102|\n",
      "------------------------------------------------------\n"
     ]
    }
   ],
   "source": [
    "## import the data analyzed\n",
    "new_data = rp.load_data('b754_data_new')"
   ]
  },
  {
   "cell_type": "code",
   "execution_count": 27,
   "metadata": {},
   "outputs": [
    {
     "name": "stdout",
     "output_type": "stream",
     "text": [
      "------------------------------------------------------\n",
      "|                Name|           Unit|        Records|\n",
      "-----------------------------------------------------\n",
      "|    shear_stress_MPa|            MPa|         223102|\n",
      "|          lp_disp_mm|             mm|         223102|\n",
      "|          ec_disp_mm|             mm|         223102|\n",
      "|   normal_stress_MPa|            MPa|         223102|\n",
      "|            lt_ec_mm|             mm|         223102|\n",
      "|         friction_na|             na|         223102|\n",
      "|     shear_strain_na|             na|         223102|\n",
      "|              time_s|              s|         223102|\n",
      "|          records_na|             na|         223102|\n",
      "------------------------------------------------------\n"
     ]
    },
    {
     "data": {
      "text/html": [
       "<div>\n",
       "<style scoped>\n",
       "    .dataframe tbody tr th:only-of-type {\n",
       "        vertical-align: middle;\n",
       "    }\n",
       "\n",
       "    .dataframe tbody tr th {\n",
       "        vertical-align: top;\n",
       "    }\n",
       "\n",
       "    .dataframe thead th {\n",
       "        text-align: right;\n",
       "    }\n",
       "</style>\n",
       "<table border=\"1\" class=\"dataframe\">\n",
       "  <thead>\n",
       "    <tr style=\"text-align: right;\">\n",
       "      <th></th>\n",
       "      <th>shear_stress_MPa</th>\n",
       "      <th>lp_disp_mm</th>\n",
       "      <th>ec_disp_mm</th>\n",
       "      <th>normal_stress_MPa</th>\n",
       "      <th>lt_ec_mm</th>\n",
       "      <th>friction_na</th>\n",
       "      <th>shear_strain_na</th>\n",
       "      <th>time_s</th>\n",
       "      <th>records_na</th>\n",
       "    </tr>\n",
       "  </thead>\n",
       "  <tbody>\n",
       "    <tr>\n",
       "      <td>0</td>\n",
       "      <td>-0.000000</td>\n",
       "      <td>0.000000</td>\n",
       "      <td>0.000000</td>\n",
       "      <td>1.000000e-07</td>\n",
       "      <td>2.805248</td>\n",
       "      <td>-0.0</td>\n",
       "      <td>0.000000</td>\n",
       "      <td>0.0</td>\n",
       "      <td>0.0</td>\n",
       "    </tr>\n",
       "    <tr>\n",
       "      <td>1</td>\n",
       "      <td>-0.000000</td>\n",
       "      <td>0.000000</td>\n",
       "      <td>0.000000</td>\n",
       "      <td>1.000000e-07</td>\n",
       "      <td>2.805240</td>\n",
       "      <td>-0.0</td>\n",
       "      <td>0.000000</td>\n",
       "      <td>0.1</td>\n",
       "      <td>1.0</td>\n",
       "    </tr>\n",
       "    <tr>\n",
       "      <td>2</td>\n",
       "      <td>-0.000000</td>\n",
       "      <td>0.000000</td>\n",
       "      <td>0.000000</td>\n",
       "      <td>1.000000e-07</td>\n",
       "      <td>2.805238</td>\n",
       "      <td>-0.0</td>\n",
       "      <td>0.000000</td>\n",
       "      <td>0.2</td>\n",
       "      <td>2.0</td>\n",
       "    </tr>\n",
       "    <tr>\n",
       "      <td>3</td>\n",
       "      <td>-0.000000</td>\n",
       "      <td>0.000000</td>\n",
       "      <td>0.000000</td>\n",
       "      <td>1.000000e-07</td>\n",
       "      <td>2.805233</td>\n",
       "      <td>-0.0</td>\n",
       "      <td>0.000000</td>\n",
       "      <td>0.3</td>\n",
       "      <td>3.0</td>\n",
       "    </tr>\n",
       "    <tr>\n",
       "      <td>4</td>\n",
       "      <td>-0.000000</td>\n",
       "      <td>0.000000</td>\n",
       "      <td>0.000000</td>\n",
       "      <td>1.000000e-07</td>\n",
       "      <td>2.805247</td>\n",
       "      <td>-0.0</td>\n",
       "      <td>0.000000</td>\n",
       "      <td>0.4</td>\n",
       "      <td>4.0</td>\n",
       "    </tr>\n",
       "    <tr>\n",
       "      <td>...</td>\n",
       "      <td>...</td>\n",
       "      <td>...</td>\n",
       "      <td>...</td>\n",
       "      <td>...</td>\n",
       "      <td>...</td>\n",
       "      <td>...</td>\n",
       "      <td>...</td>\n",
       "      <td>...</td>\n",
       "      <td>...</td>\n",
       "    </tr>\n",
       "    <tr>\n",
       "      <td>223098</td>\n",
       "      <td>0.059976</td>\n",
       "      <td>22.010925</td>\n",
       "      <td>22.010565</td>\n",
       "      <td>8.294210e-02</td>\n",
       "      <td>0.644625</td>\n",
       "      <td>0.0</td>\n",
       "      <td>52.572861</td>\n",
       "      <td>24783.0</td>\n",
       "      <td>223098.0</td>\n",
       "    </tr>\n",
       "    <tr>\n",
       "      <td>223099</td>\n",
       "      <td>0.060390</td>\n",
       "      <td>22.010940</td>\n",
       "      <td>22.010578</td>\n",
       "      <td>8.286370e-02</td>\n",
       "      <td>0.644623</td>\n",
       "      <td>0.0</td>\n",
       "      <td>52.572881</td>\n",
       "      <td>24784.0</td>\n",
       "      <td>223099.0</td>\n",
       "    </tr>\n",
       "    <tr>\n",
       "      <td>223100</td>\n",
       "      <td>0.060594</td>\n",
       "      <td>22.010916</td>\n",
       "      <td>22.010553</td>\n",
       "      <td>8.238050e-02</td>\n",
       "      <td>0.644628</td>\n",
       "      <td>0.0</td>\n",
       "      <td>52.572841</td>\n",
       "      <td>24785.0</td>\n",
       "      <td>223100.0</td>\n",
       "    </tr>\n",
       "    <tr>\n",
       "      <td>223101</td>\n",
       "      <td>0.060607</td>\n",
       "      <td>22.010929</td>\n",
       "      <td>22.010566</td>\n",
       "      <td>8.194650e-02</td>\n",
       "      <td>0.644628</td>\n",
       "      <td>0.0</td>\n",
       "      <td>52.572861</td>\n",
       "      <td>24786.0</td>\n",
       "      <td>223101.0</td>\n",
       "    </tr>\n",
       "    <tr>\n",
       "      <td>223102</td>\n",
       "      <td>0.060636</td>\n",
       "      <td>22.010926</td>\n",
       "      <td>22.010562</td>\n",
       "      <td>8.319970e-02</td>\n",
       "      <td>0.644622</td>\n",
       "      <td>0.0</td>\n",
       "      <td>52.572857</td>\n",
       "      <td>24787.0</td>\n",
       "      <td>223102.0</td>\n",
       "    </tr>\n",
       "  </tbody>\n",
       "</table>\n",
       "<p>223103 rows × 9 columns</p>\n",
       "</div>"
      ],
      "text/plain": [
       "        shear_stress_MPa  lp_disp_mm  ec_disp_mm  normal_stress_MPa  lt_ec_mm  \\\n",
       "0              -0.000000    0.000000    0.000000       1.000000e-07  2.805248   \n",
       "1              -0.000000    0.000000    0.000000       1.000000e-07  2.805240   \n",
       "2              -0.000000    0.000000    0.000000       1.000000e-07  2.805238   \n",
       "3              -0.000000    0.000000    0.000000       1.000000e-07  2.805233   \n",
       "4              -0.000000    0.000000    0.000000       1.000000e-07  2.805247   \n",
       "...                  ...         ...         ...                ...       ...   \n",
       "223098          0.059976   22.010925   22.010565       8.294210e-02  0.644625   \n",
       "223099          0.060390   22.010940   22.010578       8.286370e-02  0.644623   \n",
       "223100          0.060594   22.010916   22.010553       8.238050e-02  0.644628   \n",
       "223101          0.060607   22.010929   22.010566       8.194650e-02  0.644628   \n",
       "223102          0.060636   22.010926   22.010562       8.319970e-02  0.644622   \n",
       "\n",
       "        friction_na  shear_strain_na   time_s  records_na  \n",
       "0              -0.0         0.000000      0.0         0.0  \n",
       "1              -0.0         0.000000      0.1         1.0  \n",
       "2              -0.0         0.000000      0.2         2.0  \n",
       "3              -0.0         0.000000      0.3         3.0  \n",
       "4              -0.0         0.000000      0.4         4.0  \n",
       "...             ...              ...      ...         ...  \n",
       "223098          0.0        52.572861  24783.0    223098.0  \n",
       "223099          0.0        52.572881  24784.0    223099.0  \n",
       "223100          0.0        52.572841  24785.0    223100.0  \n",
       "223101          0.0        52.572861  24786.0    223101.0  \n",
       "223102          0.0        52.572857  24787.0    223102.0  \n",
       "\n",
       "[223103 rows x 9 columns]"
      ]
     },
     "execution_count": 27,
     "metadata": {},
     "output_type": "execute_result"
    }
   ],
   "source": [
    "## import the data analyzed as pandas data frame\n",
    "new_data = rp.load_data('b754_data_new',pandas=True)\n",
    "new_data"
   ]
  }
 ],
 "metadata": {
  "kernelspec": {
   "display_name": "Python 3",
   "language": "python",
   "name": "python3"
  },
  "language_info": {
   "codemirror_mode": {
    "name": "ipython",
    "version": 3
   },
   "file_extension": ".py",
   "mimetype": "text/x-python",
   "name": "python",
   "nbconvert_exporter": "python",
   "pygments_lexer": "ipython3",
   "version": "3.7.4"
  }
 },
 "nbformat": 4,
 "nbformat_minor": 4
}
